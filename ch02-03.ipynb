{
 "cells": [
  {
   "cell_type": "markdown",
   "metadata": {},
   "source": [
    "### 2.3. 창 관리\n",
    "- 한 개 이상의 이미지를 여러 창에 띄우거나 각 창에 키보드와 마우스 이벤트를 처리하려면 창을 관리하는 기능이 필요하다. \n",
    "\n",
    "- cv2.namedWindow(title [, option]) : 이름을 갖는 창 열기\n",
    "    - title: 창 이름, 제;목 줄에 표시\n",
    "    - option: 창 옵션, 'cv2.WINDOW_'로 시작\n",
    "        - cv2.WINDOW_NORMAL : 임의의 크기, 사용자 창 크기 조정 가능\n",
    "        - cv2.WINDOW_AUTOSIZE : 이미지와 같은 크기, 창 크기 재조정 불가능\n",
    "- cv2.moveWindow(title, x, y): 창 위치 이동\n",
    "    - title : 위치를 변경할 창 이름\n",
    "    - x, y : 이동할 창의 위치\n",
    "    \n",
    "- cv2.resizeWindow(title, width, height):  창 크기 변경\n",
    "    - title: 크기를 변경할 창의 이름\n",
    "    - width, height: 크기를 변경할 창의 폭과 높이\n",
    "    \n",
    "- cv2.destroyWindow(title): 창 닫기\n",
    "\n"
   ]
  },
  {
   "cell_type": "code",
   "execution_count": 2,
   "metadata": {},
   "outputs": [],
   "source": [
    "import cv2\n",
    "\n",
    "file_path = '../images/girl.jpg'\n",
    "img = cv2.imread(file_path)                     # 이미지를 기본값으로 읽기\n",
    "img_gray = cv2.imread(file_path, cv2.IMREAD_GRAYSCALE)   # 이미지를 그레이 스케일로 읽기\n",
    "\n",
    "\n",
    "cv2.namedWindow('origin', cv2.WINDOW_AUTOSIZE)  # origin 이라는 이름으로 창 생성\n",
    "cv2.namedWindow('gray', cv2.WINDOW_NORMAL)  # gray라는 이름으로 창 생성\n",
    "\n",
    "cv2.imshow('origin', img)\n",
    "cv2.imshow('gray', img_gray)\n",
    "\n",
    "cv2.moveWindow('origin', 0, 0)\n",
    "cv2.moveWindow('gray', 100, 100)\n",
    "\n",
    "cv2.waitKey(0)\n",
    "cv2.resizeWindow('origin', 200, 200)\n",
    "cv2.resizeWindow('gray', 100, 100)\n",
    "\n",
    "cv2.waitKey(0)\n",
    "cv2.destroyWindow('gray')\n",
    "\n",
    "cv2.waitKey(0)\n",
    "cv2.destroyAllWindows()"
   ]
  },
  {
   "cell_type": "code",
   "execution_count": null,
   "metadata": {},
   "outputs": [],
   "source": []
  }
 ],
 "metadata": {
  "kernelspec": {
   "display_name": "Python 3",
   "language": "python",
   "name": "python3"
  },
  "language_info": {
   "codemirror_mode": {
    "name": "ipython",
    "version": 3
   },
   "file_extension": ".py",
   "mimetype": "text/x-python",
   "name": "python",
   "nbconvert_exporter": "python",
   "pygments_lexer": "ipython3",
   "version": "3.7.5"
  }
 },
 "nbformat": 4,
 "nbformat_minor": 2
}
