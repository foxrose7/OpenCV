{
 "cells": [
  {
   "cell_type": "markdown",
   "metadata": {},
   "source": [
    "# 파이썬으로 만드는 OpenCV 프로젝트 \n",
    "- 저자: 이세우 프로그래밍인사이트\n",
    "- 출판사: 인사이트\n",
    "- 파이썬으로 만드는 OpenCV 프로젝트 교재 수업\n",
    "- 책의 예제 코드 다운로드 : https://github.com/dltpdn/insightbook.opencv_project_python\n"
   ]
  },
  {
   "cell_type": "markdown",
   "metadata": {},
   "source": [
    "# ch01 개요와 설치\n",
    "## 1.4. PC에서 OpenCV-Python  설치\n",
    "\n",
    "- 메인 모듈을 설치할 경우 패키지 이름은 opencv-python 입니다. 엑스트라 모듈을 포함한 패키지 이름은 opencv-contrib-python 입니다. 원하는 버전을 설치하기 위해서는 == 뒤에 버전 번호를 입력 한다. \n",
    "- pip3 install opencv-congtib-pyton==3.4.15\n",
    "- 파이썬으로 만드는 OpenCV 프로젝트 교재 발간 당시 OpenCV 최신 버전은 4.0 입니다. OpenCV 3.4.15 버전을 사용하는 이유는 SIFT와 SURF 등 특허가 있는 알고리즘을 이후 버전에서 지원하지 않기 때문이라고 합니다. 교재의 예제를 다 실행하기 위해서는 버전을 맞추어야 한다고 합니다.\n",
    "\n",
    "\n",
    "### 라즈베리파이에 설치\n",
    "- 설치 전에 패키지 목록을 업데이트 합니다. \n",
    "- ~/> sudo apt-get update \n",
    "- ~/> sudo apt-get install python3-numpy NumPy 를 설치한다. \n",
    "- 저자(이세우 님)가 제공하는 설치 파일을 키텁에서 다운로드 합니다. \n",
    "- ~/> git clone https://github.com/dltpdn/opencv-for-rpi.git\n",
    "- 다운도드 한 파일을 설치 합니다. \n",
    "- ~/> cd ./opencv-for-rpi/stretch/3.4.1\n",
    "- ~/> sudo apt -y install ./OpenCV*.dev\n",
    "- ~/> pkg-config --modversion opencv"
   ]
  },
  {
   "cell_type": "markdown",
   "metadata": {},
   "source": [
    "# CH 02. 기본 입출력\n",
    "\n",
    "## 2.1. 이미지와 비디오 출력\n",
    "### 2.1.1. 이미지 읽기"
   ]
  },
  {
   "cell_type": "code",
   "execution_count": 1,
   "metadata": {},
   "outputs": [],
   "source": [
    "import cv2\n",
    "\n",
    "img_file = '../images/ghost.jpeg'   # 표시할 이미지 경로 -- 1)\n",
    "img = cv2.imread(img_file)         # 이마자룰 읽어서 img 변수에 할당 -- 2)\n",
    "# img = cv2.imread(img_file, cv2.IMREAD_GRAYSCALE)         # 이마자룰 읽어서 img 변수에 할당 -- 2)\n",
    "# 읽기 모드 지정 cv2.IMREAD_COLOR : 컬러(BGR) 스케일로 읽기, 기본값\n",
    "#             cv2.IMREAD_UNCHANGED : 파일 그대로 읽기\n",
    "#             cv2.IMREWAD_GRAYSCALE : 그레이(흑백) 스케일로 읽기 \n",
    "if img is not None:\n",
    "    cv2.imshow('IMG', img)   # 읽은 이미지를 화면에 표시   -- 3)\n",
    "    cv2.waitKey()            # 키가 입력될 때까지 대기     -- 4)\n",
    "    cv2.destroyAllWindows()  # 창 모두 닫기    -- 5)\n",
    "else :\n",
    "    print('No Imgage file.')\n",
    "    "
   ]
  },
  {
   "cell_type": "markdown",
   "metadata": {},
   "source": [
    "### 2.1.2. 이미지 저장하기\n",
    "- OpenCV 로 읽어들인 이미지를 다시 파일로 저장하는 함수는 cv2.imwrite() 입니다. \n",
    "- cv2.imwrite(file_path, img): 이미지를 파일레 저장\n",
    "- file_path : 저장할 파일 경로 이름, 문자열\n",
    "- img : 저장할 영상, NumPy 배열\n",
    "\n",
    "다음 코드는 컬러 이미지 파일을 그레이 스케일로 읽어들여서 파일로 저장하는 예제입니다. "
   ]
  },
  {
   "cell_type": "code",
   "execution_count": 1,
   "metadata": {},
   "outputs": [],
   "source": [
    " import cv2\n",
    "    \n",
    "img_file = '../images/ghost.jpeg'\n",
    "save_file = '../images/gohst_gray.jpg'\n",
    "\n",
    "img = cv2.imread(img_file, cv2.IMREAD_GRAYSCALE)\n",
    "cv2.imshow(img_file, img)\n",
    "cv2.imwrite(save_file, img) # 파일로 저장, 포멧은 확장자에 따름\n",
    "cv2.waitKey()\n",
    "cv2.destroyAllWindows()"
   ]
  },
  {
   "cell_type": "markdown",
   "metadata": {},
   "source": [
    "### 2.1.3. 동영상 및 카메라 프레임 읽기\n",
    "\n",
    "OpenCV는 동영상 파일이나 컴퓨터에 연결한 카메라 장치로부터 연속되 이미지 프레임을 읽을 수 있는 API를 제공합니다. \n",
    "다음은 동영상 파일이나 연속된 이미지 프레임을 읽을 수 있는 API의 주요 내용입니다. \n",
    "\n",
    "- cap = cv2.VideoCapture(file_path 또는 index): 비디오 캡처 객체 생성자\n",
    "    - file_path : 동영상 파일 경루\n",
    "    - index : 카메라 장치 번호, 0부터 순차적으로 증가(0, 1, 2, ...)\n",
    "    - cap: VideoCapture 객체\n",
    "- ret = cap.isOpened(): 객체 초기화 확인\n",
    "    - ret: 초기화 여부: True / False\n",
    "- ret, img = cap.read(): 영상 프레임 읽기\n",
    "    - ret : 프레임 읽기 성공 도는 실패여부, True / False\n",
    "    - img : 프레임 이미지, NumPy 배열 또는 None\n",
    "- cap.set(id, value) : 프로퍼티 변경\n",
    "- cap.get(id) : 프로퍼티 확인\n",
    "- cap.release(): 캡처 자원 반납"
   ]
  },
  {
   "cell_type": "markdown",
   "metadata": {},
   "source": [
    "**라즈베리파이 카메라 연결**\n",
    "\n",
    "\n",
    "라즈베리파이의 경우 카메라를 연결할 수 있는 방법이 두 가지 입니다. 하나는 일반적인 웹캠을 USB에 연결하는 것이고, 나머지는 라즈페리 전용 카메라 장치인 파이 카메라를 CSI 슬롯에 연결하는 것입니다. USB 형식의 웹캠은 UVC(USB Video device Class)를 지원하는 제품인 경우 USB 포트에 연결해서 바로 사용하면 됩니다.\n",
    "\n",
    "하지만, 파이카메라의 경우 리눅스 표준 인터페이스가 아니므로 두 가지 작업이 필요 합니다. \n",
    "- 1) 카메라 장치 활성화 : \n",
    "    ~> sudo raspi-config 명령어에서 camera 옵션을 찾아 enable을 선택합니다. \n",
    "- 2) Video4Linux 디바이스 드라이버 모듈 로딩\n",
    "    ~> sudo apt-get install v4l-utils\n",
    "    ~> sudo modprobe bcm2835-v4l2\n",
    "위의 과정은 부팅할 때마다 해주어야 하므로 /etc/modules 파일 마지막 라인에 bcm2835-v4l2를 추가해 놓는 것이 좋습니다.     "
   ]
  },
  {
   "cell_type": "markdown",
   "metadata": {},
   "source": [
    "### 2.1.4. 동영상 파일 읽기\n",
    "\n",
    "\n",
    "다음은 동영상 파일을 읽기 위한 간단한 코드 입니다. "
   ]
  },
  {
   "cell_type": "code",
   "execution_count": null,
   "metadata": {},
   "outputs": [],
   "source": [
    "import cv2\n",
    "\n",
    "video_file = '../images/movie3.avi'  # 동영상 파일 경로\n",
    "\n",
    "cap = cv2.VideoCapture(video_file) # 동영상 캡쳐객체 생성 -- 1)\n",
    "\n",
    "if cap.isOpened():              # 캡처 객체 초기화 확인\n",
    "    while True:\n",
    "        ret, img = cap.read()    # 다음 프레임 읽기 -- 2)\n",
    "        if ret :\n",
    "            cv2.imshow(vidoe_file, img) # 화면에 표시  -- 3)\n",
    "            cv2.waitKey(25)             # 25ms 지연(40fps로 가정) --4)\n",
    "        else :                          # 다음 프레임일 읽을 수 없음\n",
    "            break                       # 재생 완료\n",
    "else : \n",
    "    print(\"Can't open video\")    # 캡처 객체 초기화 실패\n",
    "cap.release()\n",
    "cv2.destroyAllWindows();"
   ]
  },
  {
   "cell_type": "code",
   "execution_count": 1,
   "metadata": {},
   "outputs": [],
   "source": [
    "import cv2\n",
    "\n",
    "cap = cv2.VideoCapture(0)\n",
    "\n",
    "if cap.isOpened():\n",
    "    while True:\n",
    "        ret, img = cap.read()\n",
    "        if ret:\n",
    "            cv2.imshow('camera', img)\n",
    "            if cv2.waitKey(1) != -1:\n",
    "                break\n",
    "        else:\n",
    "            print('no frame')\n",
    "            break;\n",
    "else:\n",
    "    print(\"cant't open camera.\")\n",
    "cap.release()\n",
    "cv2.destroyAllWindows()"
   ]
  },
  {
   "cell_type": "code",
   "execution_count": 4,
   "metadata": {},
   "outputs": [
    {
     "name": "stdout",
     "output_type": "stream",
     "text": [
      "Original width: 640, height: 480\n",
      "Resized width: 320, height: 240\n"
     ]
    }
   ],
   "source": [
    "import cv2\n",
    "\n",
    "cap = cv2.VideoCapture(0)   # 카메라 0번 장치 연결\n",
    "width = cap.get(cv2.CAP_PROP_FRAME_WIDTH)  # 프레임 폭 구하기\n",
    "height = cap.get(cv2.CAP_PROP_FRAME_HEIGHT) # 프페임 높이 구하기\n",
    "print(\"Original width: %d, height: %d\" %(width, height))\n",
    "\n",
    "cap.set(cv2.CAP_PROP_FRAME_WIDTH, 320) # 프레임 폭을 320으로 설정\n",
    "cap.set(cv2.CAP_PROP_FRAME_HEIGHT, 240) # 프레임 높이를 240으로 설정\n",
    "width = cap.get(cv2.CAP_PROP_FRAME_WIDTH)  # 재지정한 프레임 폭 값 구하기\n",
    "height = cap.get(cv2.CAP_PROP_FRAME_HEIGHT) # 재지정한 프레임 높이 값 구하기 \n",
    "print(\"Resized width: %d, height: %d\" % (width, height))\n",
    "\n",
    "if cap.isOpened():\n",
    "    while True:\n",
    "        ret, img = cap.read()\n",
    "        if ret:\n",
    "            cv2.imshow('camera', img)\n",
    "            if cv2.waitKey(1) != -1 :\n",
    "                break\n",
    "        else :\n",
    "            print('no frame!')\n",
    "            break\n",
    "else:\n",
    "    print(\"Can't open camera!\")\n",
    "\n",
    "cap.release()\n",
    "cv2.destroyAllWindows()"
   ]
  },
  {
   "cell_type": "markdown",
   "metadata": {},
   "source": [
    "### 2.1.7. 비디오 파일 저장하기\n",
    "\n",
    "카메라나 동영상 파일을 재생하는 도중 특정한 프레임만 이미지로 저장하거나 특정 구근을 동영상 파일로 저장할 수도 있습니다. 한 개의 특정 프레임만 파일로 저장하는 방법은 cq1.imqeirw() 함수를 그대로 사용하면 됩니다. \n",
    "\n",
    "다음 예제는 카메라로부터 프레임을 표시하다가 아무 카나 누르면 해당 프레임을 파일로 저장하는 코드 입니다. "
   ]
  },
  {
   "cell_type": "code",
   "execution_count": 3,
   "metadata": {},
   "outputs": [],
   "source": [
    "# 카메라로 사진 찍기\n",
    "\n",
    "import cv2\n",
    "\n",
    "cap = cv2.VideoCapture(0)      # 0 번 카메라 연결\n",
    "\n",
    "if cap.isOpened():\n",
    "    while True:\n",
    "        ret, frame = cap.read() # 카메라 프레임 읽기 \n",
    "        if ret:\n",
    "            cv2.imshow('Camera', frame) # 프레임 화면에 표시\n",
    "            if cv2.waitKey(1) != -1: # 아무키나 누르면\n",
    "                cv2.imwrite('../images/photo.jpg', frame)  #  프레임을 'photo.jpg' 에 저장\n",
    "                break\n",
    "        else:\n",
    "            print('no frame!')\n",
    "            break\n",
    "else:\n",
    "    print('no camera!')\n",
    "cap.release()\n",
    "cv2.destroyAllWindows()"
   ]
  },
  {
   "cell_type": "markdown",
   "metadata": {},
   "source": [
    "위 코드를 시랭하면 카메라로부터 촬영한 영상이 화면에 나오는데, 카메라를 보고 자세를 취하면서 키보드의 아무키나 누르면 ../images 디렉터리에 photo.jpg 사진이 저장 됩니다. \n",
    "\n",
    "하나의 프레임이 아닌 여러 프레임을 동영상으로 저장하려고 할 때는 cv2.VideoWriter() 를 사용합니다. \n",
    "\n",
    "- writer = cv2.VideoWriter(file_path, fourcc, fps, (width, height)): 비디오 저장 클래스 생성자 함수\n",
    "    - file_path : 비디어 파일 저장 경로\n",
    "    - fourcc : 비디오 인코딩 형식 4글자\n",
    "    - fps : 초당 프레임 수\n",
    "    - (width, height) : 프레임 폭과 프레임 높이\n",
    "    - writer: 생성된 비디오 저장 객체\n",
    "- writer.write(frame): 프레임 저장\n",
    "    - frame : 저장할 프레임, NumPy 배열 \n",
    "- writer.set(id, value) : 프로퍼티 변경\n",
    "- write.get(id) : 프로퍼티 확인\n",
    "- ret = writer.fourcc(c1, c2, c3, c4) : fourcc 코드 생성\n",
    "    - c1, c2, c3, c4 : 인코딩 형식 4글자, 'MJPG', 'DIVX' 등\n",
    "    - ret : fourcc 코드\n",
    "- cv2.VideoWriter_fourcc(c1, c2, c3, c4): cv2.VideoWriter.fourcc()와 동일\n",
    "\n",
    "cv2.VideoWriter()생성자 함수에 저장할 파일 이름과 인코딩 포벳 문자, fps, 프레임크기를 지정해서 객체를 생성하고 write() 함수로 프레임을 파일에 저장하면 된다. \n",
    "\n",
    "- http:/fourcc.org/codecs.php\n",
    "\n",
    "\n"
   ]
  },
  {
   "cell_type": "code",
   "execution_count": null,
   "metadata": {},
   "outputs": [],
   "source": [
    "import cv2\n",
    "\n",
    "cap = cv2.VideoCapture(0)   # 0 번 카메라 연결\n",
    "\n",
    "if cap.isOpened:\n",
    "    file_path = './record.avi'  # 저장할 파일 경로 이름\n",
    "    fps = 25.40         #  fps, 초당 프레임 수\n",
    "    fourcc = cv2.VideoWriter_fourcc(*'XVID')  # 인코딩 포멧 문자\n",
    "    width = cap.get(cv2.CAP_PROP_FRAME_WIDTH)\n",
    "    height = cap.get(cv2.CAP_PROP_FRAME_HEIGHT)\n",
    "    size = (int(width), int(height))  # 프레임 크기\n",
    "#     print(\"width:%d, height:%d\" % (width, height))\n",
    "    out = cv2.VideoWriter(file_path, fourcc, fps, size) # VideoWriter 객체 생성\n",
    "    while True:\n",
    "        ret, frame = cap.read()\n",
    "        if ret: \n",
    "            cv2.imshow('camera-recording', frame)\n",
    "#             out.write(frame)\n",
    "            \n",
    "            if cv2.waitKey(int(1000/fps)) != -1 :\n",
    "                break\n",
    "        else:\n",
    "            print('no frame!')\n",
    "            break\n",
    "#     out.release()  # 파일 닫기\n",
    "else:\n",
    "    print(\"Can't open camera! \")\n",
    "\n",
    "cap.release()\n",
    "cv2.destroyAllWindows()\n",
    "    "
   ]
  },
  {
   "cell_type": "code",
   "execution_count": null,
   "metadata": {},
   "outputs": [],
   "source": []
  }
 ],
 "metadata": {
  "kernelspec": {
   "display_name": "Python 3",
   "language": "python",
   "name": "python3"
  },
  "language_info": {
   "codemirror_mode": {
    "name": "ipython",
    "version": 3
   },
   "file_extension": ".py",
   "mimetype": "text/x-python",
   "name": "python",
   "nbconvert_exporter": "python",
   "pygments_lexer": "ipython3",
   "version": "3.6.8"
  }
 },
 "nbformat": 4,
 "nbformat_minor": 2
}
